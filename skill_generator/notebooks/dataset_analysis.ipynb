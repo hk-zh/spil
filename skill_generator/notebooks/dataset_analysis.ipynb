{
 "cells": [
  {
   "cell_type": "code",
   "execution_count": 3,
   "metadata": {
    "collapsed": true,
    "pycharm": {
     "name": "#%%\n"
    }
   },
   "outputs": [],
   "source": [
    "import torch\n",
    "import gym\n",
    "import hydra\n",
    "from omegaconf import DictConfig\n",
    "from pytorch_lightning import seed_everything\n",
    "from hydra import initialize, initialize_config_module, initialize_config_dir, compose\n",
    "from hulc.models.decoders.utils.gripper_control import tcp_to_world_frame, world_to_tcp_frame\n",
    "import numpy as np"
   ]
  },
  {
   "cell_type": "code",
   "execution_count": 4,
   "outputs": [],
   "source": [
    "def skill_type_classifier(acts):\n",
    "    energy = 0.\n",
    "    energy_g = 0.\n",
    "    _, T, _ = acts.shape\n",
    "    for i in range(T):\n",
    "        energy += abs(acts[:, i, :6])\n",
    "    for i in range(T-1):\n",
    "        energy_g += abs(acts[:, i+1, 6]- acts[:, i, 6])\n",
    "    translation = (energy[:, 0] + energy[:, 1] + energy[:, 2]) / 3\n",
    "    rotation = (energy[:, 3] + energy[:, 4] + energy[:, 5]) / 3\n",
    "    gripper = energy_g\n",
    "    return translation, rotation, gripper"
   ],
   "metadata": {
    "collapsed": false,
    "pycharm": {
     "name": "#%%\n"
    }
   }
  },
  {
   "cell_type": "code",
   "execution_count": 5,
   "outputs": [
    {
     "name": "stderr",
     "output_type": "stream",
     "text": [
      "/Users/Garen/opt/anaconda3/envs/hulc/lib/python3.8/site-packages/hydra/_internal/defaults_list.py:251: UserWarning: In 'config.yaml': Defaults list is missing `_self_`. See https://hydra.cc/docs/1.2/upgrades/1.0_to_1.1/default_composition_order for more information\n",
      "  warnings.warn(msg, UserWarning)\n"
     ]
    },
    {
     "name": "stdout",
     "output_type": "stream",
     "text": [
      "/Users/Garen/hulc/dataset/calvin_debug_dataset/training\n"
     ]
    },
    {
     "name": "stderr",
     "output_type": "stream",
     "text": [
      "/Users/Garen/opt/anaconda3/envs/hulc/lib/python3.8/site-packages/pytorch_lightning/core/datamodule.py:133: LightningDeprecationWarning: DataModule property `val_transforms` was deprecated in v1.5 and will be removed in v1.7.\n",
      "  rank_zero_deprecation(\n",
      "/Users/Garen/opt/anaconda3/envs/hulc/lib/python3.8/site-packages/torch/autocast_mode.py:141: UserWarning: User provided device_type of 'cuda', but CUDA is not available. Disabling\n",
      "  warnings.warn('User provided device_type of \\'cuda\\', but CUDA is not available. Disabling')\n"
     ]
    },
    {
     "name": "stdout",
     "output_type": "stream",
     "text": [
      "0.8893503 0.40364364\n",
      "0.64061916 0.30906624\n",
      "0.19088937 0.5876563\n"
     ]
    }
   ],
   "source": [
    "with initialize(version_base=None, config_path=\"../../conf_sg\"):\n",
    "    cfg = compose(config_name=\"config.yaml\", overrides=['datamodule.root_data_dir=dataset/calvin_debug_dataset'])\n",
    "    datamodule = hydra.utils.instantiate(cfg.datamodule)\n",
    "    print(datamodule.training_dir)\n",
    "    datamodule.prepare_data()\n",
    "    datamodule.setup()\n",
    "    train_dataloader = datamodule.train_dataloader()\n",
    "    a_t = []\n",
    "    a_r = []\n",
    "    a_g = []\n",
    "    for data in train_dataloader:\n",
    "        gt_actions = data['actions']\n",
    "        robot_obs = data['state_info']['robot_obs']\n",
    "        tcp_actions = world_to_tcp_frame(gt_actions, robot_obs)\n",
    "        t, r, g = skill_type_classifier(tcp_actions)\n",
    "        a_t += t\n",
    "        a_r += r\n",
    "        a_g += g\n",
    "\n",
    "    a_t = np.array(a_t)\n",
    "    a_r = np.array(a_r)\n",
    "    a_g = np.array(a_g)\n",
    "    print(a_t.mean(), a_t.std())\n",
    "    print(a_r.mean(), a_r.std())\n",
    "    print(a_g.mean(), a_g.std())"
   ],
   "metadata": {
    "collapsed": false,
    "pycharm": {
     "name": "#%%\n"
    }
   }
  }
 ],
 "metadata": {
  "kernelspec": {
   "name": "hulc",
   "language": "python",
   "display_name": "hulc"
  },
  "language_info": {
   "codemirror_mode": {
    "name": "ipython",
    "version": 2
   },
   "file_extension": ".py",
   "mimetype": "text/x-python",
   "name": "python",
   "nbconvert_exporter": "python",
   "pygments_lexer": "ipython2",
   "version": "2.7.6"
  }
 },
 "nbformat": 4,
 "nbformat_minor": 0
}