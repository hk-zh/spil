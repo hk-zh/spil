{
 "cells": [
  {
   "cell_type": "code",
   "execution_count": 153,
   "outputs": [],
   "source": [
    "import os\n",
    "from pathlib import Path\n",
    "import shutil\n",
    "import time\n",
    "from typing import Dict, List, Union\n",
    "import skill_generator.models.skill_generator as model_sg\n",
    "import hulc\n",
    "import torch"
   ],
   "metadata": {
    "collapsed": false,
    "pycharm": {
     "name": "#%%\n"
    }
   }
  },
  {
   "cell_type": "code",
   "execution_count": 154,
   "outputs": [],
   "source": [
    "def get_all_checkpoints(experiment_folder: Path) -> List:\n",
    "    if experiment_folder.is_dir():\n",
    "        checkpoint_folder = experiment_folder / \"saved_models\"\n",
    "        if checkpoint_folder.is_dir():\n",
    "            checkpoints = sorted(Path(checkpoint_folder).iterdir(), key=lambda chk: chk.stat().st_mtime)\n",
    "            if len(checkpoints):\n",
    "                return [chk for chk in checkpoints if chk.suffix == \".ckpt\"]\n",
    "    return []"
   ],
   "metadata": {
    "collapsed": false,
    "pycharm": {
     "name": "#%%\n"
    }
   }
  },
  {
   "cell_type": "code",
   "execution_count": 155,
   "outputs": [],
   "source": [
    "def get_last_checkpoint(experiment_folder: Path) -> Union[Path, None]:\n",
    "    # return newest checkpoint according to creation time\n",
    "    checkpoints = get_all_checkpoints(experiment_folder)\n",
    "    if len(checkpoints):\n",
    "        return checkpoints[-1]\n",
    "    return None"
   ],
   "metadata": {
    "collapsed": false,
    "pycharm": {
     "name": "#%%\n"
    }
   }
  },
  {
   "cell_type": "code",
   "execution_count": 177,
   "outputs": [],
   "source": [
    "def _sample(mu: torch.Tensor, scale: torch.Tensor) -> torch.Tensor:\n",
    "    eps = torch.randn(*mu.size()).to(mu)\n",
    "    return mu + scale * eps"
   ],
   "metadata": {
    "collapsed": false,
    "pycharm": {
     "name": "#%%\n"
    }
   }
  },
  {
   "cell_type": "code",
   "execution_count": 178,
   "outputs": [],
   "source": [
    "def skill_type_classifier(actions, magic_scale=[0.8, 1.3, 1.0]):\n",
    "    energy = 0.\n",
    "    gripper_energy = 0.\n",
    "    _, T, _ = actions.shape\n",
    "    for i in range(T):\n",
    "        energy += abs(actions[:, i, :6])\n",
    "    for i in range(T - 1):\n",
    "        gripper_energy += abs(actions[:, i + 1, 6] - actions[:, i, 6])\n",
    "\n",
    "    translation = (energy[:, 0] + energy[:, 1] + energy[:, 2]) / 3\n",
    "    rotation = (energy[:, 3] + energy[:, 4] + energy[:, 5]) / 3\n",
    "    gripper = gripper_energy\n",
    "    translation /= magic_scale[0]\n",
    "    rotation /= magic_scale[1]\n",
    "    gripper /= magic_scale[2]\n",
    "    t = torch.stack([translation, rotation, gripper], dim=-1)\n",
    "    B, _ = t.shape\n",
    "    skill_types = torch.argmax(t, dim=-1)\n",
    "    return skill_types"
   ],
   "metadata": {
    "collapsed": false,
    "pycharm": {
     "name": "#%%\n"
    }
   }
  },
  {
   "cell_type": "code",
   "execution_count": 179,
   "outputs": [
    {
     "name": "stdout",
     "output_type": "stream",
     "text": [
      "translation rate:  tensor(0.7839)\n",
      "rotation rate:  tensor(0.5609)\n",
      "grasp rate:  tensor(0.7317)\n"
     ]
    }
   ],
   "source": [
    "batch = 10000\n",
    "# load_checkpoint\n",
    "sg_chk_path = './sg_runs/2022-12-04/09-41-58'\n",
    "sg_chk_path = Path(hulc.__file__).parent.parent / sg_chk_path\n",
    "chk = get_last_checkpoint(sg_chk_path)\n",
    "skill_generator = getattr(model_sg, 'SkillGenerator').load_from_checkpoint(chk.as_posix())\n",
    "skill_generator.freeze()\n",
    "prior_locator = skill_generator.prior_locator.eval()\n",
    "action_decoder = skill_generator.decoder.eval()\n",
    "\n",
    "priors = prior_locator(repeat=batch)\n",
    "skill_len = torch.tensor(5)\n",
    "\n",
    "t_mu = priors['p_mu'][:,0,:]\n",
    "t_scale = priors['p_scale'][:,0,:]\n",
    "\n",
    "t_sampled = _sample(t_mu, t_scale)\n",
    "\n",
    "r_mu = priors['p_mu'][:,1,:]\n",
    "r_scale = priors['p_scale'][:,1,:]\n",
    "r_sampled = _sample(r_mu, r_scale)\n",
    "\n",
    "g_mu = priors['p_mu'][:,2,:]\n",
    "g_scale = priors['p_scale'][:,2,:]\n",
    "g_sampled = _sample(g_mu, g_scale)\n",
    "\n",
    "t_actions = action_decoder(t_sampled, skill_len.repeat(batch))\n",
    "r_actions = action_decoder(r_sampled, skill_len.repeat(batch))\n",
    "g_actions = action_decoder(g_sampled, skill_len.repeat(batch))\n",
    "\n",
    "rate_t = torch.sum(skill_type_classifier(t_actions) == 0) / batch\n",
    "rate_r = torch.sum(skill_type_classifier(r_actions) == 1) / batch\n",
    "rate_g = torch.sum(skill_type_classifier(g_actions) == 2) / batch\n",
    "\n",
    "print('translation rate: ', rate_t)\n",
    "print('rotation rate: ', rate_r)\n",
    "print('grasp rate: ', rate_g)"
   ],
   "metadata": {
    "collapsed": false,
    "pycharm": {
     "name": "#%%\n"
    }
   }
  },
  {
   "cell_type": "code",
   "execution_count": 86,
   "outputs": [],
   "source": [],
   "metadata": {
    "collapsed": false,
    "pycharm": {
     "name": "#%%\n"
    }
   }
  },
  {
   "cell_type": "code",
   "execution_count": null,
   "outputs": [],
   "source": [],
   "metadata": {
    "collapsed": false,
    "pycharm": {
     "name": "#%%\n"
    }
   }
  }
 ],
 "metadata": {
  "kernelspec": {
   "name": "hulc",
   "language": "python",
   "display_name": "hulc"
  },
  "language_info": {
   "codemirror_mode": {
    "name": "ipython",
    "version": 2
   },
   "file_extension": ".py",
   "mimetype": "text/x-python",
   "name": "python",
   "nbconvert_exporter": "python",
   "pygments_lexer": "ipython2",
   "version": "2.7.6"
  }
 },
 "nbformat": 4,
 "nbformat_minor": 0
}